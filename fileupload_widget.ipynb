{
 "cells": [
  {
   "cell_type": "code",
   "execution_count": 8,
   "metadata": {},
   "outputs": [],
   "source": [
    "from ipywidgets import FileUpload\n",
    "from Bio import SeqIO"
   ]
  },
  {
   "cell_type": "code",
   "execution_count": 4,
   "metadata": {},
   "outputs": [
    {
     "data": {
      "application/vnd.jupyter.widget-view+json": {
       "model_id": "de014e978b774d9c9166153131bf9ab4",
       "version_major": 2,
       "version_minor": 0
      },
      "text/plain": [
       "FileUpload(value=(), accept='*', description='Upload')"
      ]
     },
     "execution_count": 4,
     "metadata": {},
     "output_type": "execute_result"
    }
   ],
   "source": [
    "file_uploader = FileUpload(accept= '*', multiple = False)\n",
    "file_uploader"
   ]
  },
  {
   "cell_type": "code",
   "execution_count": 5,
   "metadata": {},
   "outputs": [],
   "source": [
    "uploaded_file = file_uploader.value[0]"
   ]
  },
  {
   "cell_type": "code",
   "execution_count": 6,
   "metadata": {},
   "outputs": [],
   "source": [
    "with open(\"./saved-output.fasta\", \"wb\") as fp:\n",
    "    fp.write(uploaded_file.content)"
   ]
  },
  {
   "cell_type": "code",
   "execution_count": 11,
   "metadata": {},
   "outputs": [
    {
     "name": "stdout",
     "output_type": "stream",
     "text": [
      "ID: NZ_ABKZ01000654.1\n",
      "Name: NZ_ABKZ01000654.1\n",
      "Description: NZ_ABKZ01000654.1 Pseudomonas aeruginosa PAb1 Contig1.653, whole genome shotgun sequence\n",
      "Number of features: 0\n",
      "Seq('GCAACCCACGGCGGTAATGCCAGGCGCCGTCACGCAGCACGGCGCCCTCGGGAA...GGC')\n"
     ]
    }
   ],
   "source": [
    "sequence = SeqIO.read(\"./saved-output.fasta\", 'fasta')\n",
    "print(sequence)"
   ]
  },
  {
   "cell_type": "code",
   "execution_count": 12,
   "metadata": {},
   "outputs": [
    {
     "data": {
      "text/plain": [
       "Seq('GCAACCCACGGCGGTAATGCCAGGCGCCGTCACGCAGCACGGCGCCCTCGGGAA...GGC')"
      ]
     },
     "execution_count": 12,
     "metadata": {},
     "output_type": "execute_result"
    }
   ],
   "source": [
    "sequence.seq"
   ]
  }
 ],
 "metadata": {
  "kernelspec": {
   "display_name": "Python 3",
   "language": "python",
   "name": "python3"
  },
  "language_info": {
   "codemirror_mode": {
    "name": "ipython",
    "version": 3
   },
   "file_extension": ".py",
   "mimetype": "text/x-python",
   "name": "python",
   "nbconvert_exporter": "python",
   "pygments_lexer": "ipython3",
   "version": "3.12.2"
  }
 },
 "nbformat": 4,
 "nbformat_minor": 2
}
